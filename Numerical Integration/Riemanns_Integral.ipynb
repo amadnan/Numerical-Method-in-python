{
 "cells": [
  {
   "cell_type": "markdown",
   "id": "7a391b48",
   "metadata": {},
   "source": [
    "# Riemanns Integral"
   ]
  },
  {
   "cell_type": "markdown",
   "id": "228647b3",
   "metadata": {},
   "source": [
    "The simplest method for approximating integrals is by summing the area of rectangles that are defined for each subinterval. The width of the rectangle is $x_{i+1} − x_i = h$, and the height is defined by a function value $f(x)$ for some $x$ in the subinterval. An obvious choice for the height is the function value at the left endpoint, $x_i$, or the right endpoint, $x_{i+1}$, because these values can be used even if the function itself is not known. This method gives the Riemann Integral approximation, which is\n",
    "$$\n",
    "\\int_a^b f(x) dx = \\sum_{i = 0}^{n-1}hf(x_i) \n",
    "$$\n",
    "and expression for the integral of $f(x)$ to\n",
    "$$\n",
    "\\int_{x_i}^{x_{i+1}} f(x) dx = hf(y_i) + O(h^3).\n",
    "$$"
   ]
  },
  {
   "cell_type": "markdown",
   "id": "8d5de4a5",
   "metadata": {},
   "source": [
    "## Example"
   ]
  },
  {
   "cell_type": "markdown",
   "id": "e27c955d",
   "metadata": {},
   "source": [
    "Use the left Riemann Integral, right Riemann Integral, and Midpoint Rule to approximate $\\int_0^\\pi \\sin(x)dx$ wtih $11$ evenly spaced grid ponts over the whole interval. Compare this value to the exact value of $2$."
   ]
  },
  {
   "cell_type": "code",
   "execution_count": 1,
   "id": "a10f8f0c",
   "metadata": {},
   "outputs": [
    {
     "name": "stdout",
     "output_type": "stream",
     "text": [
      "1.9835235375094546\n",
      "0.01647646249054535\n",
      "1.9835235375094546\n",
      "0.01647646249054535\n",
      "2.0082484079079745\n",
      "-0.008248407907974542\n"
     ]
    }
   ],
   "source": [
    "import numpy as np\n",
    "\n",
    "a = 0\n",
    "b = np.pi\n",
    "n = 11\n",
    "h = (b - a) / (n - 1)\n",
    "x = np.linspace(a, b, n)\n",
    "f = np.sin(x)\n",
    "\n",
    "I_riemannL = h * sum(f[:n-1])\n",
    "err_riemannL = 2 - I_riemannL\n",
    "\n",
    "I_riemannR = h * sum(f[1::])\n",
    "err_riemannR = 2 - I_riemannR\n",
    "\n",
    "I_mid = h * sum(np.sin((x[:n-1] \\\n",
    "        + x[1:])/2))\n",
    "err_mid = 2 - I_mid\n",
    "\n",
    "print(I_riemannL)\n",
    "print(err_riemannL)\n",
    "\n",
    "print(I_riemannR)\n",
    "print(err_riemannR)\n",
    "\n",
    "print(I_mid)\n",
    "print(err_mid)"
   ]
  }
 ],
 "metadata": {
  "kernelspec": {
   "display_name": "Python 3",
   "language": "python",
   "name": "python3"
  },
  "language_info": {
   "codemirror_mode": {
    "name": "ipython",
    "version": 3
   },
   "file_extension": ".py",
   "mimetype": "text/x-python",
   "name": "python",
   "nbconvert_exporter": "python",
   "pygments_lexer": "ipython3",
   "version": "3.8.8"
  }
 },
 "nbformat": 4,
 "nbformat_minor": 5
}
