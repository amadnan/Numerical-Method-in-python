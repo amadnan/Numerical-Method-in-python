{
 "cells": [
  {
   "cell_type": "markdown",
   "id": "2e6f81dd",
   "metadata": {},
   "source": [
    "# Trapezoid Rule"
   ]
  },
  {
   "cell_type": "markdown",
   "id": "30f0c565",
   "metadata": {},
   "source": [
    "The formula for the Trapezoid Rule is\n",
    "$$\n",
    "\\int_{x_i}^{x_{i+1}} f(x) dx = h\\left(\\frac{f(x_{i+1}) + f(x_i)}{2}\\right) + O(h^3)\n",
    "$$"
   ]
  },
  {
   "cell_type": "markdown",
   "id": "f84e701f",
   "metadata": {},
   "source": [
    "## Example"
   ]
  },
  {
   "cell_type": "markdown",
   "id": "0cac92fa",
   "metadata": {},
   "source": [
    "we use the Trapezoid Rule to approximate $\\int_0^\\pi \\sin(x)dx$ with $11$ evenly spaced grid points over the whole interval. Compare this value to the exact value of $2$."
   ]
  },
  {
   "cell_type": "code",
   "execution_count": 1,
   "id": "54ff5002",
   "metadata": {},
   "outputs": [
    {
     "name": "stdout",
     "output_type": "stream",
     "text": [
      "1.9835235375094546\n",
      "0.01647646249054535\n"
     ]
    }
   ],
   "source": [
    "import numpy as np\n",
    "\n",
    "a = 0\n",
    "b = np.pi\n",
    "n = 11\n",
    "h = (b - a) / (n - 1)\n",
    "x = np.linspace(a, b, n)\n",
    "f = np.sin(x)\n",
    "\n",
    "I_trap = (h/2)*(f[0] + \\\n",
    "          2 * sum(f[1:n-1]) + f[n-1])\n",
    "err_trap = 2 - I_trap\n",
    "\n",
    "print(I_trap)\n",
    "print(err_trap)"
   ]
  }
 ],
 "metadata": {
  "kernelspec": {
   "display_name": "Python 3",
   "language": "python",
   "name": "python3"
  },
  "language_info": {
   "codemirror_mode": {
    "name": "ipython",
    "version": 3
   },
   "file_extension": ".py",
   "mimetype": "text/x-python",
   "name": "python",
   "nbconvert_exporter": "python",
   "pygments_lexer": "ipython3",
   "version": "3.8.8"
  }
 },
 "nbformat": 4,
 "nbformat_minor": 5
}
