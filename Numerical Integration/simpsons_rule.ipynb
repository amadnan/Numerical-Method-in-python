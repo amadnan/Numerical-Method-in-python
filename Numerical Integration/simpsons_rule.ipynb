{
 "cells": [
  {
   "cell_type": "markdown",
   "id": "0cb5dc52",
   "metadata": {},
   "source": [
    "# Simpson’s Rule"
   ]
  },
  {
   "cell_type": "markdown",
   "id": "21ac1f56",
   "metadata": {},
   "source": [
    "Formula for Simpson’s Rule is\n",
    "$$\n",
    "\\int_{x_{i-1}}^{x_{i+1}}f(x)dx = \\frac{h}{3}(f(x_{i−1}) + 4f(x_i) + f(x_{i+1})) + O(h^5)\n",
    "$$"
   ]
  },
  {
   "cell_type": "code",
   "execution_count": 1,
   "id": "f437f2c1",
   "metadata": {},
   "outputs": [
    {
     "name": "stdout",
     "output_type": "stream",
     "text": [
      "2.0001095173150043\n",
      "-0.00010951731500430384\n"
     ]
    }
   ],
   "source": [
    "import numpy as np\n",
    "\n",
    "a = 0\n",
    "b = np.pi\n",
    "n = 11\n",
    "h = (b - a) / (n - 1)\n",
    "x = np.linspace(a, b, n)\n",
    "f = np.sin(x)\n",
    "\n",
    "I_simp = (h/3) * (f[0] + 2*sum(f[:n-2:2]) \\\n",
    "            + 4*sum(f[1:n-1:2]) + f[n-1])\n",
    "err_simp = 2 - I_simp\n",
    "\n",
    "print(I_simp)\n",
    "print(err_simp)"
   ]
  }
 ],
 "metadata": {
  "kernelspec": {
   "display_name": "Python 3",
   "language": "python",
   "name": "python3"
  },
  "language_info": {
   "codemirror_mode": {
    "name": "ipython",
    "version": 3
   },
   "file_extension": ".py",
   "mimetype": "text/x-python",
   "name": "python",
   "nbconvert_exporter": "python",
   "pygments_lexer": "ipython3",
   "version": "3.8.8"
  }
 },
 "nbformat": 4,
 "nbformat_minor": 5
}
