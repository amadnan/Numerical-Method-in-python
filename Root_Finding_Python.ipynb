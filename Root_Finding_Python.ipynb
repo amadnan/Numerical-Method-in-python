{
 "cells": [
  {
   "cell_type": "markdown",
   "id": "a3aaeb0c",
   "metadata": {},
   "source": [
    "# Root Finding in Python"
   ]
  },
  {
   "cell_type": "markdown",
   "id": "217aadc7",
   "metadata": {},
   "source": [
    "Python has the existing root-finding functions for us to use to make things easy. The function we can use to find the root is `f_solve` from the `scipy.optimize`."
   ]
  },
  {
   "cell_type": "markdown",
   "id": "4cea869d",
   "metadata": {},
   "source": [
    "Computing the root of the function $f(x) = x^3 − 100x^2 − x + 100$ using `f_solve`."
   ]
  },
  {
   "cell_type": "code",
   "execution_count": 2,
   "id": "79e5f806",
   "metadata": {},
   "outputs": [],
   "source": [
    "from scipy.optimize import fsolve"
   ]
  },
  {
   "cell_type": "code",
   "execution_count": 3,
   "id": "ac59832d",
   "metadata": {},
   "outputs": [
    {
     "data": {
      "text/plain": [
       "array([  1., 100.])"
      ]
     },
     "execution_count": 3,
     "metadata": {},
     "output_type": "execute_result"
    }
   ],
   "source": [
    "f = lambda x: x**3-100*x**2-x+100\n",
    "\n",
    "fsolve(f, [2, 80])"
   ]
  },
  {
   "cell_type": "markdown",
   "id": "a8923b38",
   "metadata": {},
   "source": [
    "We know that this function has two roots $x = 1$ and $x = 100$, therefore, we can get the two roots out fairly simple using the `f_solve` function."
   ]
  }
 ],
 "metadata": {
  "kernelspec": {
   "display_name": "Python 3",
   "language": "python",
   "name": "python3"
  },
  "language_info": {
   "codemirror_mode": {
    "name": "ipython",
    "version": 3
   },
   "file_extension": ".py",
   "mimetype": "text/x-python",
   "name": "python",
   "nbconvert_exporter": "python",
   "pygments_lexer": "ipython3",
   "version": "3.8.8"
  }
 },
 "nbformat": 4,
 "nbformat_minor": 5
}
