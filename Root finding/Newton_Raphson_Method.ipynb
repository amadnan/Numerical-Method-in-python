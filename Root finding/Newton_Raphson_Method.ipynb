{
 "cells": [
  {
   "cell_type": "markdown",
   "id": "41284986",
   "metadata": {},
   "source": [
    "# Newton-Raphson Method"
   ]
  },
  {
   "cell_type": "markdown",
   "id": "6a23eaf3",
   "metadata": {},
   "source": [
    "Generally, a Newton step computes an improved guess, $x_i$, using a previous guess $x{i−1}$, and is given by the equation\n",
    "$$\n",
    "x_i = x_{i-1} - \\frac{g(x_{i-1})}{g^\\prime(x_{i-1})}.\n",
    "$$"
   ]
  },
  {
   "cell_type": "markdown",
   "id": "a947e4cd",
   "metadata": {},
   "source": [
    "The $\\sqrt{2}$ is the root of the function $f(x) = x^2−2$. Using $x_0 = 1.4$ as a starting point, use the previous equation to estimate $\\sqrt{2}$. Compare this approximation with the value computed by Python’s sqrt function."
   ]
  },
  {
   "cell_type": "code",
   "execution_count": 2,
   "id": "33778cd2",
   "metadata": {},
   "outputs": [
    {
     "name": "stdout",
     "output_type": "stream",
     "text": [
      "newton_raphson = 1.4142857142857144\n",
      "sqrt(2) = 1.4142135623730951\n"
     ]
    }
   ],
   "source": [
    "import numpy as np\n",
    "\n",
    "f = lambda x: x**2 - 2\n",
    "f_prime = lambda x: 2*x\n",
    "newton_raphson = 1.4 - (f(1.4))/(f_prime(1.4))\n",
    "\n",
    "print(\"newton_raphson =\", newton_raphson)\n",
    "print(\"sqrt(2) =\", np.sqrt(2))"
   ]
  },
  {
   "cell_type": "code",
   "execution_count": 3,
   "id": "1d33fcad",
   "metadata": {},
   "outputs": [],
   "source": [
    "def my_newton(f, df, x0, tol):\n",
    "    # output is an estimation of the root of f \n",
    "    # using the Newton Raphson method\n",
    "    # recursive implementation\n",
    "    if abs(f(x0)) < tol:\n",
    "        return x0\n",
    "    else:\n",
    "        return my_newton(f, df, x0 - f(x0)/df(x0), tol)"
   ]
  },
  {
   "cell_type": "code",
   "execution_count": 4,
   "id": "2899fece",
   "metadata": {},
   "outputs": [
    {
     "name": "stdout",
     "output_type": "stream",
     "text": [
      "estimate = 1.4142135623746899\n",
      "sqrt(2) = 1.4142135623730951\n"
     ]
    }
   ],
   "source": [
    "estimate = my_newton(f, f_prime, 1.5, 1e-6)\n",
    "print(\"estimate =\", estimate)\n",
    "print(\"sqrt(2) =\", np.sqrt(2))"
   ]
  },
  {
   "cell_type": "code",
   "execution_count": 5,
   "id": "6f3d7de1",
   "metadata": {},
   "outputs": [
    {
     "name": "stdout",
     "output_type": "stream",
     "text": [
      "x1 = -688.4516883116648\n"
     ]
    }
   ],
   "source": [
    "x0 = 0.29\n",
    "x1 = x0-(x0**3+3*x0**2-2*x0-5)/(3*x0**2+6*x0-2)\n",
    "print(\"x1 =\", x1)"
   ]
  }
 ],
 "metadata": {
  "kernelspec": {
   "display_name": "Python 3",
   "language": "python",
   "name": "python3"
  },
  "language_info": {
   "codemirror_mode": {
    "name": "ipython",
    "version": 3
   },
   "file_extension": ".py",
   "mimetype": "text/x-python",
   "name": "python",
   "nbconvert_exporter": "python",
   "pygments_lexer": "ipython3",
   "version": "3.8.8"
  }
 },
 "nbformat": 4,
 "nbformat_minor": 5
}
