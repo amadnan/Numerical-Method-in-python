{
 "cells": [
  {
   "cell_type": "markdown",
   "id": "f90cd15b",
   "metadata": {},
   "source": [
    "# Truncation errors for Taylor series"
   ]
  },
  {
   "cell_type": "markdown",
   "id": "948d4633",
   "metadata": {},
   "source": [
    "Approximate $e^2$ using different order of Taylor series, and print out the results."
   ]
  },
  {
   "cell_type": "code",
   "execution_count": 2,
   "id": "c52221e8",
   "metadata": {},
   "outputs": [],
   "source": [
    "import numpy as np"
   ]
  },
  {
   "cell_type": "code",
   "execution_count": 3,
   "id": "4b28983c",
   "metadata": {},
   "outputs": [
    {
     "name": "stdout",
     "output_type": "stream",
     "text": [
      "Using 0-term, 1.0\n",
      "Using 1-term, 3.0\n",
      "Using 2-term, 5.0\n",
      "Using 3-term, 6.333333333333333\n",
      "Using 4-term, 7.0\n",
      "Using 5-term, 7.266666666666667\n",
      "Using 6-term, 7.355555555555555\n",
      "Using 7-term, 7.3809523809523805\n",
      "Using 8-term, 7.387301587301587\n",
      "Using 9-term, 7.3887125220458545\n",
      "The true e^2 is: \n",
      "7.38905609893065\n"
     ]
    }
   ],
   "source": [
    "exp = 0\n",
    "x = 2\n",
    "for i in range(10):\n",
    "    exp = exp + \\\n",
    "       ((x**i)/np.math.factorial(i))\n",
    "    print(f'Using {i}-term, {exp}')\n",
    "    \n",
    "print(f'The true e^2 is: \\n{np.exp(2)}')"
   ]
  },
  {
   "cell_type": "markdown",
   "id": "fdb6605d",
   "metadata": {},
   "source": [
    "## Estimate truncation errors"
   ]
  },
  {
   "cell_type": "markdown",
   "id": "ce7a591d",
   "metadata": {},
   "source": [
    "Estimate the remainder bound for the approximation using taylor series for $e^2$ using $n = 9$.\n",
    "\n",
    "We know that $(e^x)^\\prime = e^x$, and, $a = 0$. Therefore, the error related to $x = 2$ is\n",
    "$$\n",
    "E_n(x) = \\frac{f^{(9 + 1)}(z)(x)^{(9 + 1)}}{(9 + 1)!} = \\frac{e^z2^10}{10!}\n",
    "$$\n",
    "Recall that $0 \\leq z \\leq 2$, and $e < 3$, we will have\n",
    "$$\n",
    "|E_n(x)| \\leq \\frac{3^2 2^{10}}{10!} = 0.00254\n",
    "$$"
   ]
  },
  {
   "cell_type": "code",
   "execution_count": 4,
   "id": "f6479eef",
   "metadata": {
    "scrolled": true
   },
   "outputs": [
    {
     "data": {
      "text/plain": [
       "0.0003435768847959153"
      ]
     },
     "execution_count": 4,
     "metadata": {},
     "output_type": "execute_result"
    }
   ],
   "source": [
    "abs(7.3887125220458545-np.exp(2))"
   ]
  },
  {
   "cell_type": "markdown",
   "id": "71dbf944",
   "metadata": {},
   "source": [
    "## Round-off errors for Taylor series"
   ]
  },
  {
   "cell_type": "markdown",
   "id": "ef96bef6",
   "metadata": {},
   "source": [
    "Approximate $e^{-30}$ using different order of Taylor series, and print out the results"
   ]
  },
  {
   "cell_type": "code",
   "execution_count": 5,
   "id": "3e10ca49",
   "metadata": {},
   "outputs": [
    {
     "name": "stdout",
     "output_type": "stream",
     "text": [
      "Using 199-term, our result is -8.553016433669241e-05\n",
      "The true e^2 is: 9.357622968840175e-14\n"
     ]
    }
   ],
   "source": [
    "exp = 0\n",
    "x = -30\n",
    "for i in range(200):\n",
    "    exp = exp + \\\n",
    "       ((x**i)/np.math.factorial(i))\n",
    "    \n",
    "print(f'Using {i}-term, our result is {exp}')    \n",
    "print(f'The true e^2 is: {np.exp(x)}')"
   ]
  }
 ],
 "metadata": {
  "kernelspec": {
   "display_name": "Python 3",
   "language": "python",
   "name": "python3"
  },
  "language_info": {
   "codemirror_mode": {
    "name": "ipython",
    "version": 3
   },
   "file_extension": ".py",
   "mimetype": "text/x-python",
   "name": "python",
   "nbconvert_exporter": "python",
   "pygments_lexer": "ipython3",
   "version": "3.8.8"
  }
 },
 "nbformat": 4,
 "nbformat_minor": 5
}
