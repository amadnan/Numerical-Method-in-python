{
 "cells": [
  {
   "cell_type": "markdown",
   "id": "1f62b0b0",
   "metadata": {},
   "source": [
    "# Bisection Method"
   ]
  },
  {
   "cell_type": "markdown",
   "id": "1e3e3868",
   "metadata": {},
   "source": [
    " Program a function `my_bisection(f, a, b, tol)` that approximates a root $r$ of $f$, bounded by $a$ and $b$ to within $|f(\\frac{a+b}{2})| < tol$"
   ]
  },
  {
   "cell_type": "code",
   "execution_count": 1,
   "id": "09de5d44",
   "metadata": {},
   "outputs": [],
   "source": [
    "import numpy as np\n",
    "\n",
    "def my_bisection(f, a, b, tol): \n",
    "    # approximates a root, R, of f bounded \n",
    "    # by a and b to within tolerance \n",
    "    # | f(m) | < tol with m the midpoint \n",
    "    # between a and b Recursive implementation\n",
    "    \n",
    "    # check if a and b bound a root\n",
    "    if np.sign(f(a)) == np.sign(f(b)):\n",
    "        raise Exception(\n",
    "         \"The scalars a and b do not bound a root\")\n",
    "        \n",
    "    # get midpoint\n",
    "    m = (a + b)/2\n",
    "    \n",
    "    if np.abs(f(m)) < tol:\n",
    "        # stopping condition, report m as root\n",
    "        return m\n",
    "    elif np.sign(f(a)) == np.sign(f(m)):\n",
    "        # case where m is an improvement on a. \n",
    "        # Make recursive call with a = m\n",
    "        return my_bisection(f, m, b, tol)\n",
    "    elif np.sign(f(b)) == np.sign(f(m)):\n",
    "        # case where m is an improvement on b. \n",
    "        # Make recursive call with b = m\n",
    "        return my_bisection(f, a, m, tol)"
   ]
  },
  {
   "cell_type": "markdown",
   "id": "70c909d1",
   "metadata": {},
   "source": [
    "## Example"
   ]
  },
  {
   "cell_type": "markdown",
   "id": "b10ca61d",
   "metadata": {},
   "source": [
    "The $\\sqrt{2}$ can be computed as the root of the function $f(x)=x^2−2$. Starting at $a = 0$ and $b = 2$, use my_bisection to approximate the $\\sqrt{2}$ to a tolerance of $|f(x)|<0.1$ and $|f(x)|<0.01$. Verify that the results are close to a root by plugging the root back into the function."
   ]
  },
  {
   "cell_type": "code",
   "execution_count": 2,
   "id": "865d8025",
   "metadata": {},
   "outputs": [
    {
     "name": "stdout",
     "output_type": "stream",
     "text": [
      "r1 = 1.4375\n",
      "r01 = 1.4140625\n",
      "f(r1) = 0.06640625\n",
      "f(r01) = -0.00042724609375\n"
     ]
    }
   ],
   "source": [
    "f = lambda x: x**2 - 2\n",
    "\n",
    "r1 = my_bisection(f, 0, 2, 0.1)\n",
    "print(\"r1 =\", r1)\n",
    "r01 = my_bisection(f, 0, 2, 0.01)\n",
    "print(\"r01 =\", r01)\n",
    "\n",
    "print(\"f(r1) =\", f(r1))\n",
    "print(\"f(r01) =\", f(r01))"
   ]
  }
 ],
 "metadata": {
  "kernelspec": {
   "display_name": "Python 3",
   "language": "python",
   "name": "python3"
  },
  "language_info": {
   "codemirror_mode": {
    "name": "ipython",
    "version": 3
   },
   "file_extension": ".py",
   "mimetype": "text/x-python",
   "name": "python",
   "nbconvert_exporter": "python",
   "pygments_lexer": "ipython3",
   "version": "3.8.8"
  }
 },
 "nbformat": 4,
 "nbformat_minor": 5
}
