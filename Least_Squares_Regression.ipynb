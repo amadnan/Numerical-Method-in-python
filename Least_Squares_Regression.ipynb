{
 "cells": [
  {
   "cell_type": "markdown",
   "id": "e74b6c6e",
   "metadata": {},
   "source": [
    "# Least Squares Regression Problem"
   ]
  },
  {
   "cell_type": "markdown",
   "id": "5a8e98da",
   "metadata": {},
   "source": [
    "Given a set of independent data points $x_i$ and dependent data points $y_i$, $i=1,\\ \\ldots,\\ m$, we would like to find an estimation function, $\\hat{y}(x)$, that describes the data as well as possible. Note that $\\hat{y}$ can be a function of several variables, but for the sake of this discussion, we restrict the domain of $\\hat{y}$ to be a single variable."
   ]
  },
  {
   "cell_type": "markdown",
   "id": "af230e57",
   "metadata": {},
   "source": [
    "## importing necessary libraries"
   ]
  },
  {
   "cell_type": "code",
   "execution_count": 23,
   "id": "3a85f98d",
   "metadata": {},
   "outputs": [],
   "source": [
    "import numpy as np\n",
    "from scipy import optimize\n",
    "import matplotlib.pyplot as plt\n",
    "\n",
    "plt.style.use('seaborn')"
   ]
  },
  {
   "cell_type": "markdown",
   "id": "ae061f45",
   "metadata": {},
   "source": [
    "## Direct Inverse Method"
   ]
  },
  {
   "cell_type": "code",
   "execution_count": 24,
   "id": "d92d204e",
   "metadata": {
    "scrolled": true
   },
   "outputs": [
    {
     "name": "stdout",
     "output_type": "stream",
     "text": [
      "[0.   0.01 0.02 0.03 0.04 0.05 0.06 0.07 0.08 0.09 0.1  0.11 0.12 0.13\n",
      " 0.14 0.15 0.16 0.17 0.18 0.19 0.2  0.21 0.22 0.23 0.24 0.25 0.26 0.27\n",
      " 0.28 0.29 0.3  0.31 0.32 0.33 0.34 0.35 0.36 0.37 0.38 0.39 0.4  0.41\n",
      " 0.42 0.43 0.44 0.45 0.46 0.47 0.48 0.49 0.5  0.51 0.52 0.53 0.54 0.55\n",
      " 0.56 0.57 0.58 0.59 0.6  0.61 0.62 0.63 0.64 0.65 0.66 0.67 0.68 0.69\n",
      " 0.7  0.71 0.72 0.73 0.74 0.75 0.76 0.77 0.78 0.79 0.8  0.81 0.82 0.83\n",
      " 0.84 0.85 0.86 0.87 0.88 0.89 0.9  0.91 0.92 0.93 0.94 0.95 0.96 0.97\n",
      " 0.98 0.99 1.  ]\n",
      "[1.         1.01566266 1.03454984 1.03835439 1.0483547  1.0934039\n",
      " 1.09896819 1.13118834 1.08238282 1.14988752 1.11488895 1.12005504\n",
      " 1.21130453 1.17257305 1.16973728 1.19620522 1.19140798 1.25172329\n",
      " 1.27802926 1.24005614 1.25273862 1.41421221 1.32197701 1.27353246\n",
      " 1.46065578 1.33378657 1.32057986 1.51624135 1.33834901 1.45221367\n",
      " 1.55594136 1.49142158 1.62601217 1.56403609 1.53690977 1.64420187\n",
      " 1.63888009 1.71706395 1.65054606 1.60093899 1.66823384 1.78818958\n",
      " 1.57566504 1.69640367 1.46573762 1.59347645 1.90821388 1.63864854\n",
      " 1.80651732 1.53918398 1.56675247 1.58140864 1.99112502 1.56891079\n",
      " 1.97957771 1.75287509 1.95969686 2.05407438 2.02805197 1.89559777\n",
      " 1.62796674 1.77359693 2.20923761 1.91502059 1.99329142 2.21773556\n",
      " 2.02296298 2.00978425 1.75409166 1.92971985 2.17367004 2.23440717\n",
      " 2.07146428 1.74778272 2.35965578 1.80338069 2.2595188  1.98446753\n",
      " 2.4267178  2.22860931 2.37227996 2.35200281 2.61145848 2.06761432\n",
      " 2.64886674 2.36334408 1.91930499 2.71451538 2.08040106 2.54819577\n",
      " 2.25983097 2.06867867 2.82830614 2.15575495 2.01939613 2.70208035\n",
      " 2.72721205 2.88457652 2.12912611 2.01638545 2.99506124]\n"
     ]
    }
   ],
   "source": [
    "# generate x and y\n",
    "x = np.linspace(0, 1, 101)\n",
    "y = 1 + x + x * np.random.random(len(x))\n",
    "\n",
    "print(x)\n",
    "print(y)"
   ]
  },
  {
   "cell_type": "code",
   "execution_count": 25,
   "id": "87df8ff7",
   "metadata": {},
   "outputs": [],
   "source": [
    "# assemble matrix A\n",
    "A = np.vstack([x, np.ones(len(x))]).T\n",
    "\n",
    "# turn y into a column vector\n",
    "y = y[:, np.newaxis]"
   ]
  },
  {
   "cell_type": "code",
   "execution_count": 26,
   "id": "e24e42f1",
   "metadata": {},
   "outputs": [
    {
     "name": "stdout",
     "output_type": "stream",
     "text": [
      "[[1.54103327]\n",
      " [0.99794659]]\n"
     ]
    }
   ],
   "source": [
    "# Direct least square regression\n",
    "alpha = np.dot((np.dot(np.linalg.inv(np.dot(A.T,A)),A.T)),y)\n",
    "print(alpha)"
   ]
  },
  {
   "cell_type": "code",
   "execution_count": 32,
   "id": "695ff7d4",
   "metadata": {},
   "outputs": [
    {
     "data": {
      "image/png": "[encoded data removed]",
      "text/plain": [
       "<Figure size 576x432 with 1 Axes>"
      ]
     },
     "metadata": {},
     "output_type": "display_data"
    }
   ],
   "source": [
    "# plot the results\n",
    "plt.figure(figsize = (8,6))\n",
    "plt.plot(x, y, 'b.')\n",
    "plt.plot(x, alpha[0]*x + alpha[1], 'r')\n",
    "plt.xlabel('x')\n",
    "plt.ylabel('y')\n",
    "plt.show()"
   ]
  },
  {
   "cell_type": "markdown",
   "id": "d50f294a",
   "metadata": {},
   "source": [
    "## Use the pseudoinverse"
   ]
  },
  {
   "cell_type": "markdown",
   "id": "7c532dd1",
   "metadata": {},
   "source": [
    "$(A^TA)^{-1}A^T$ is called the pseudo-inverse"
   ]
  },
  {
   "cell_type": "code",
   "execution_count": 28,
   "id": "316b2a16",
   "metadata": {},
   "outputs": [
    {
     "name": "stdout",
     "output_type": "stream",
     "text": [
      "[[1.54103327]\n",
      " [0.99794659]]\n"
     ]
    }
   ],
   "source": [
    "pinv = np.linalg.pinv(A)\n",
    "alpha = pinv.dot(y)\n",
    "print(alpha)"
   ]
  },
  {
   "cell_type": "markdown",
   "id": "6f6e6f99",
   "metadata": {},
   "source": [
    "## Use numpy.linalg.lstsq"
   ]
  },
  {
   "cell_type": "code",
   "execution_count": 29,
   "id": "c2becc94",
   "metadata": {},
   "outputs": [
    {
     "name": "stdout",
     "output_type": "stream",
     "text": [
      "[[1.54103327]\n",
      " [0.99794659]]\n"
     ]
    }
   ],
   "source": [
    "alpha = np.linalg.lstsq(A, y, rcond=None)[0]\n",
    "print(alpha)"
   ]
  },
  {
   "cell_type": "markdown",
   "id": "400763a5",
   "metadata": {},
   "source": [
    "## Use `optimize.curve_fit` from `scipy`"
   ]
  },
  {
   "cell_type": "code",
   "execution_count": 30,
   "id": "b306cec5",
   "metadata": {},
   "outputs": [],
   "source": [
    "# generate x and y\n",
    "x = np.linspace(0, 1, 101)\n",
    "y = 1 + x + x * np.random.random(len(x))"
   ]
  },
  {
   "cell_type": "code",
   "execution_count": 31,
   "id": "e242cc75",
   "metadata": {},
   "outputs": [
    {
     "name": "stdout",
     "output_type": "stream",
     "text": [
      "[1.38379821 1.02810226]\n"
     ]
    }
   ],
   "source": [
    "def func(x, a, b):\n",
    "    y = a*x + b\n",
    "    return y\n",
    "\n",
    "alpha = optimize.curve_fit(func, xdata = x, ydata = y)[0]\n",
    "print(alpha)"
   ]
  }
 ],
 "metadata": {
  "kernelspec": {
   "display_name": "Python 3",
   "language": "python",
   "name": "python3"
  },
  "language_info": {
   "codemirror_mode": {
    "name": "ipython",
    "version": 3
   },
   "file_extension": ".py",
   "mimetype": "text/x-python",
   "name": "python",
   "nbconvert_exporter": "python",
   "pygments_lexer": "ipython3",
   "version": "3.8.8"
  }
 },
 "nbformat": 4,
 "nbformat_minor": 5
}
